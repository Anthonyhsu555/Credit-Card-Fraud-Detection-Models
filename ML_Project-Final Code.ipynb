{
 "cells": [
  {
   "cell_type": "code",
   "execution_count": 54,
   "metadata": {},
   "outputs": [],
   "source": [
    "from IPython.core.interactiveshell import InteractiveShell\n",
    "InteractiveShell.ast_node_interactivity='all'"
   ]
  },
  {
   "cell_type": "code",
   "execution_count": 55,
   "metadata": {},
   "outputs": [
    {
     "data": {
      "text/html": [
       "<div>\n",
       "<style scoped>\n",
       "    .dataframe tbody tr th:only-of-type {\n",
       "        vertical-align: middle;\n",
       "    }\n",
       "\n",
       "    .dataframe tbody tr th {\n",
       "        vertical-align: top;\n",
       "    }\n",
       "\n",
       "    .dataframe thead th {\n",
       "        text-align: right;\n",
       "    }\n",
       "</style>\n",
       "<table border=\"1\" class=\"dataframe\">\n",
       "  <thead>\n",
       "    <tr style=\"text-align: right;\">\n",
       "      <th></th>\n",
       "      <th>Time</th>\n",
       "      <th>V1</th>\n",
       "      <th>V2</th>\n",
       "      <th>V3</th>\n",
       "      <th>V4</th>\n",
       "      <th>V5</th>\n",
       "      <th>V6</th>\n",
       "      <th>V7</th>\n",
       "      <th>V8</th>\n",
       "      <th>V9</th>\n",
       "      <th>...</th>\n",
       "      <th>V21</th>\n",
       "      <th>V22</th>\n",
       "      <th>V23</th>\n",
       "      <th>V24</th>\n",
       "      <th>V25</th>\n",
       "      <th>V26</th>\n",
       "      <th>V27</th>\n",
       "      <th>V28</th>\n",
       "      <th>Amount</th>\n",
       "      <th>Class</th>\n",
       "    </tr>\n",
       "  </thead>\n",
       "  <tbody>\n",
       "    <tr>\n",
       "      <th>0</th>\n",
       "      <td>0.0</td>\n",
       "      <td>-1.359807</td>\n",
       "      <td>-0.072781</td>\n",
       "      <td>2.536347</td>\n",
       "      <td>1.378155</td>\n",
       "      <td>-0.338321</td>\n",
       "      <td>0.462388</td>\n",
       "      <td>0.239599</td>\n",
       "      <td>0.098698</td>\n",
       "      <td>0.363787</td>\n",
       "      <td>...</td>\n",
       "      <td>-0.018307</td>\n",
       "      <td>0.277838</td>\n",
       "      <td>-0.110474</td>\n",
       "      <td>0.066928</td>\n",
       "      <td>0.128539</td>\n",
       "      <td>-0.189115</td>\n",
       "      <td>0.133558</td>\n",
       "      <td>-0.021053</td>\n",
       "      <td>149.62</td>\n",
       "      <td>0</td>\n",
       "    </tr>\n",
       "    <tr>\n",
       "      <th>1</th>\n",
       "      <td>0.0</td>\n",
       "      <td>1.191857</td>\n",
       "      <td>0.266151</td>\n",
       "      <td>0.166480</td>\n",
       "      <td>0.448154</td>\n",
       "      <td>0.060018</td>\n",
       "      <td>-0.082361</td>\n",
       "      <td>-0.078803</td>\n",
       "      <td>0.085102</td>\n",
       "      <td>-0.255425</td>\n",
       "      <td>...</td>\n",
       "      <td>-0.225775</td>\n",
       "      <td>-0.638672</td>\n",
       "      <td>0.101288</td>\n",
       "      <td>-0.339846</td>\n",
       "      <td>0.167170</td>\n",
       "      <td>0.125895</td>\n",
       "      <td>-0.008983</td>\n",
       "      <td>0.014724</td>\n",
       "      <td>2.69</td>\n",
       "      <td>0</td>\n",
       "    </tr>\n",
       "    <tr>\n",
       "      <th>2</th>\n",
       "      <td>1.0</td>\n",
       "      <td>-1.358354</td>\n",
       "      <td>-1.340163</td>\n",
       "      <td>1.773209</td>\n",
       "      <td>0.379780</td>\n",
       "      <td>-0.503198</td>\n",
       "      <td>1.800499</td>\n",
       "      <td>0.791461</td>\n",
       "      <td>0.247676</td>\n",
       "      <td>-1.514654</td>\n",
       "      <td>...</td>\n",
       "      <td>0.247998</td>\n",
       "      <td>0.771679</td>\n",
       "      <td>0.909412</td>\n",
       "      <td>-0.689281</td>\n",
       "      <td>-0.327642</td>\n",
       "      <td>-0.139097</td>\n",
       "      <td>-0.055353</td>\n",
       "      <td>-0.059752</td>\n",
       "      <td>378.66</td>\n",
       "      <td>0</td>\n",
       "    </tr>\n",
       "    <tr>\n",
       "      <th>3</th>\n",
       "      <td>1.0</td>\n",
       "      <td>-0.966272</td>\n",
       "      <td>-0.185226</td>\n",
       "      <td>1.792993</td>\n",
       "      <td>-0.863291</td>\n",
       "      <td>-0.010309</td>\n",
       "      <td>1.247203</td>\n",
       "      <td>0.237609</td>\n",
       "      <td>0.377436</td>\n",
       "      <td>-1.387024</td>\n",
       "      <td>...</td>\n",
       "      <td>-0.108300</td>\n",
       "      <td>0.005274</td>\n",
       "      <td>-0.190321</td>\n",
       "      <td>-1.175575</td>\n",
       "      <td>0.647376</td>\n",
       "      <td>-0.221929</td>\n",
       "      <td>0.062723</td>\n",
       "      <td>0.061458</td>\n",
       "      <td>123.50</td>\n",
       "      <td>0</td>\n",
       "    </tr>\n",
       "    <tr>\n",
       "      <th>4</th>\n",
       "      <td>2.0</td>\n",
       "      <td>-1.158233</td>\n",
       "      <td>0.877737</td>\n",
       "      <td>1.548718</td>\n",
       "      <td>0.403034</td>\n",
       "      <td>-0.407193</td>\n",
       "      <td>0.095921</td>\n",
       "      <td>0.592941</td>\n",
       "      <td>-0.270533</td>\n",
       "      <td>0.817739</td>\n",
       "      <td>...</td>\n",
       "      <td>-0.009431</td>\n",
       "      <td>0.798278</td>\n",
       "      <td>-0.137458</td>\n",
       "      <td>0.141267</td>\n",
       "      <td>-0.206010</td>\n",
       "      <td>0.502292</td>\n",
       "      <td>0.219422</td>\n",
       "      <td>0.215153</td>\n",
       "      <td>69.99</td>\n",
       "      <td>0</td>\n",
       "    </tr>\n",
       "  </tbody>\n",
       "</table>\n",
       "<p>5 rows × 31 columns</p>\n",
       "</div>"
      ],
      "text/plain": [
       "   Time        V1        V2        V3        V4        V5        V6        V7  \\\n",
       "0   0.0 -1.359807 -0.072781  2.536347  1.378155 -0.338321  0.462388  0.239599   \n",
       "1   0.0  1.191857  0.266151  0.166480  0.448154  0.060018 -0.082361 -0.078803   \n",
       "2   1.0 -1.358354 -1.340163  1.773209  0.379780 -0.503198  1.800499  0.791461   \n",
       "3   1.0 -0.966272 -0.185226  1.792993 -0.863291 -0.010309  1.247203  0.237609   \n",
       "4   2.0 -1.158233  0.877737  1.548718  0.403034 -0.407193  0.095921  0.592941   \n",
       "\n",
       "         V8        V9  ...       V21       V22       V23       V24       V25  \\\n",
       "0  0.098698  0.363787  ... -0.018307  0.277838 -0.110474  0.066928  0.128539   \n",
       "1  0.085102 -0.255425  ... -0.225775 -0.638672  0.101288 -0.339846  0.167170   \n",
       "2  0.247676 -1.514654  ...  0.247998  0.771679  0.909412 -0.689281 -0.327642   \n",
       "3  0.377436 -1.387024  ... -0.108300  0.005274 -0.190321 -1.175575  0.647376   \n",
       "4 -0.270533  0.817739  ... -0.009431  0.798278 -0.137458  0.141267 -0.206010   \n",
       "\n",
       "        V26       V27       V28  Amount  Class  \n",
       "0 -0.189115  0.133558 -0.021053  149.62      0  \n",
       "1  0.125895 -0.008983  0.014724    2.69      0  \n",
       "2 -0.139097 -0.055353 -0.059752  378.66      0  \n",
       "3 -0.221929  0.062723  0.061458  123.50      0  \n",
       "4  0.502292  0.219422  0.215153   69.99      0  \n",
       "\n",
       "[5 rows x 31 columns]"
      ]
     },
     "execution_count": 55,
     "metadata": {},
     "output_type": "execute_result"
    }
   ],
   "source": [
    "# Loading the dataset\n",
    "import pandas as pd\n",
    "df= pd.read_csv('creditcard.csv')\n",
    "df.head()"
   ]
  },
  {
   "cell_type": "code",
   "execution_count": 56,
   "metadata": {},
   "outputs": [
    {
     "data": {
      "text/html": [
       "<div>\n",
       "<style scoped>\n",
       "    .dataframe tbody tr th:only-of-type {\n",
       "        vertical-align: middle;\n",
       "    }\n",
       "\n",
       "    .dataframe tbody tr th {\n",
       "        vertical-align: top;\n",
       "    }\n",
       "\n",
       "    .dataframe thead th {\n",
       "        text-align: right;\n",
       "    }\n",
       "</style>\n",
       "<table border=\"1\" class=\"dataframe\">\n",
       "  <thead>\n",
       "    <tr style=\"text-align: right;\">\n",
       "      <th></th>\n",
       "      <th>Time</th>\n",
       "      <th>V1</th>\n",
       "      <th>V2</th>\n",
       "      <th>V3</th>\n",
       "      <th>V4</th>\n",
       "      <th>V5</th>\n",
       "      <th>V6</th>\n",
       "      <th>V7</th>\n",
       "      <th>V8</th>\n",
       "      <th>V9</th>\n",
       "      <th>...</th>\n",
       "      <th>V21</th>\n",
       "      <th>V22</th>\n",
       "      <th>V23</th>\n",
       "      <th>V24</th>\n",
       "      <th>V25</th>\n",
       "      <th>V26</th>\n",
       "      <th>V27</th>\n",
       "      <th>V28</th>\n",
       "      <th>Amount</th>\n",
       "      <th>Class</th>\n",
       "    </tr>\n",
       "  </thead>\n",
       "  <tbody>\n",
       "    <tr>\n",
       "      <th>count</th>\n",
       "      <td>284807.000000</td>\n",
       "      <td>2.848070e+05</td>\n",
       "      <td>2.848070e+05</td>\n",
       "      <td>2.848070e+05</td>\n",
       "      <td>2.848070e+05</td>\n",
       "      <td>2.848070e+05</td>\n",
       "      <td>2.848070e+05</td>\n",
       "      <td>2.848070e+05</td>\n",
       "      <td>2.848070e+05</td>\n",
       "      <td>2.848070e+05</td>\n",
       "      <td>...</td>\n",
       "      <td>2.848070e+05</td>\n",
       "      <td>2.848070e+05</td>\n",
       "      <td>2.848070e+05</td>\n",
       "      <td>2.848070e+05</td>\n",
       "      <td>2.848070e+05</td>\n",
       "      <td>2.848070e+05</td>\n",
       "      <td>2.848070e+05</td>\n",
       "      <td>2.848070e+05</td>\n",
       "      <td>284807.000000</td>\n",
       "      <td>284807.000000</td>\n",
       "    </tr>\n",
       "    <tr>\n",
       "      <th>mean</th>\n",
       "      <td>94813.859575</td>\n",
       "      <td>3.919560e-15</td>\n",
       "      <td>5.688174e-16</td>\n",
       "      <td>-8.769071e-15</td>\n",
       "      <td>2.782312e-15</td>\n",
       "      <td>-1.552563e-15</td>\n",
       "      <td>2.010663e-15</td>\n",
       "      <td>-1.694249e-15</td>\n",
       "      <td>-1.927028e-16</td>\n",
       "      <td>-3.137024e-15</td>\n",
       "      <td>...</td>\n",
       "      <td>1.537294e-16</td>\n",
       "      <td>7.959909e-16</td>\n",
       "      <td>5.367590e-16</td>\n",
       "      <td>4.458112e-15</td>\n",
       "      <td>1.453003e-15</td>\n",
       "      <td>1.699104e-15</td>\n",
       "      <td>-3.660161e-16</td>\n",
       "      <td>-1.206049e-16</td>\n",
       "      <td>88.349619</td>\n",
       "      <td>0.001727</td>\n",
       "    </tr>\n",
       "    <tr>\n",
       "      <th>std</th>\n",
       "      <td>47488.145955</td>\n",
       "      <td>1.958696e+00</td>\n",
       "      <td>1.651309e+00</td>\n",
       "      <td>1.516255e+00</td>\n",
       "      <td>1.415869e+00</td>\n",
       "      <td>1.380247e+00</td>\n",
       "      <td>1.332271e+00</td>\n",
       "      <td>1.237094e+00</td>\n",
       "      <td>1.194353e+00</td>\n",
       "      <td>1.098632e+00</td>\n",
       "      <td>...</td>\n",
       "      <td>7.345240e-01</td>\n",
       "      <td>7.257016e-01</td>\n",
       "      <td>6.244603e-01</td>\n",
       "      <td>6.056471e-01</td>\n",
       "      <td>5.212781e-01</td>\n",
       "      <td>4.822270e-01</td>\n",
       "      <td>4.036325e-01</td>\n",
       "      <td>3.300833e-01</td>\n",
       "      <td>250.120109</td>\n",
       "      <td>0.041527</td>\n",
       "    </tr>\n",
       "    <tr>\n",
       "      <th>min</th>\n",
       "      <td>0.000000</td>\n",
       "      <td>-5.640751e+01</td>\n",
       "      <td>-7.271573e+01</td>\n",
       "      <td>-4.832559e+01</td>\n",
       "      <td>-5.683171e+00</td>\n",
       "      <td>-1.137433e+02</td>\n",
       "      <td>-2.616051e+01</td>\n",
       "      <td>-4.355724e+01</td>\n",
       "      <td>-7.321672e+01</td>\n",
       "      <td>-1.343407e+01</td>\n",
       "      <td>...</td>\n",
       "      <td>-3.483038e+01</td>\n",
       "      <td>-1.093314e+01</td>\n",
       "      <td>-4.480774e+01</td>\n",
       "      <td>-2.836627e+00</td>\n",
       "      <td>-1.029540e+01</td>\n",
       "      <td>-2.604551e+00</td>\n",
       "      <td>-2.256568e+01</td>\n",
       "      <td>-1.543008e+01</td>\n",
       "      <td>0.000000</td>\n",
       "      <td>0.000000</td>\n",
       "    </tr>\n",
       "    <tr>\n",
       "      <th>25%</th>\n",
       "      <td>54201.500000</td>\n",
       "      <td>-9.203734e-01</td>\n",
       "      <td>-5.985499e-01</td>\n",
       "      <td>-8.903648e-01</td>\n",
       "      <td>-8.486401e-01</td>\n",
       "      <td>-6.915971e-01</td>\n",
       "      <td>-7.682956e-01</td>\n",
       "      <td>-5.540759e-01</td>\n",
       "      <td>-2.086297e-01</td>\n",
       "      <td>-6.430976e-01</td>\n",
       "      <td>...</td>\n",
       "      <td>-2.283949e-01</td>\n",
       "      <td>-5.423504e-01</td>\n",
       "      <td>-1.618463e-01</td>\n",
       "      <td>-3.545861e-01</td>\n",
       "      <td>-3.171451e-01</td>\n",
       "      <td>-3.269839e-01</td>\n",
       "      <td>-7.083953e-02</td>\n",
       "      <td>-5.295979e-02</td>\n",
       "      <td>5.600000</td>\n",
       "      <td>0.000000</td>\n",
       "    </tr>\n",
       "    <tr>\n",
       "      <th>50%</th>\n",
       "      <td>84692.000000</td>\n",
       "      <td>1.810880e-02</td>\n",
       "      <td>6.548556e-02</td>\n",
       "      <td>1.798463e-01</td>\n",
       "      <td>-1.984653e-02</td>\n",
       "      <td>-5.433583e-02</td>\n",
       "      <td>-2.741871e-01</td>\n",
       "      <td>4.010308e-02</td>\n",
       "      <td>2.235804e-02</td>\n",
       "      <td>-5.142873e-02</td>\n",
       "      <td>...</td>\n",
       "      <td>-2.945017e-02</td>\n",
       "      <td>6.781943e-03</td>\n",
       "      <td>-1.119293e-02</td>\n",
       "      <td>4.097606e-02</td>\n",
       "      <td>1.659350e-02</td>\n",
       "      <td>-5.213911e-02</td>\n",
       "      <td>1.342146e-03</td>\n",
       "      <td>1.124383e-02</td>\n",
       "      <td>22.000000</td>\n",
       "      <td>0.000000</td>\n",
       "    </tr>\n",
       "    <tr>\n",
       "      <th>75%</th>\n",
       "      <td>139320.500000</td>\n",
       "      <td>1.315642e+00</td>\n",
       "      <td>8.037239e-01</td>\n",
       "      <td>1.027196e+00</td>\n",
       "      <td>7.433413e-01</td>\n",
       "      <td>6.119264e-01</td>\n",
       "      <td>3.985649e-01</td>\n",
       "      <td>5.704361e-01</td>\n",
       "      <td>3.273459e-01</td>\n",
       "      <td>5.971390e-01</td>\n",
       "      <td>...</td>\n",
       "      <td>1.863772e-01</td>\n",
       "      <td>5.285536e-01</td>\n",
       "      <td>1.476421e-01</td>\n",
       "      <td>4.395266e-01</td>\n",
       "      <td>3.507156e-01</td>\n",
       "      <td>2.409522e-01</td>\n",
       "      <td>9.104512e-02</td>\n",
       "      <td>7.827995e-02</td>\n",
       "      <td>77.165000</td>\n",
       "      <td>0.000000</td>\n",
       "    </tr>\n",
       "    <tr>\n",
       "      <th>max</th>\n",
       "      <td>172792.000000</td>\n",
       "      <td>2.454930e+00</td>\n",
       "      <td>2.205773e+01</td>\n",
       "      <td>9.382558e+00</td>\n",
       "      <td>1.687534e+01</td>\n",
       "      <td>3.480167e+01</td>\n",
       "      <td>7.330163e+01</td>\n",
       "      <td>1.205895e+02</td>\n",
       "      <td>2.000721e+01</td>\n",
       "      <td>1.559499e+01</td>\n",
       "      <td>...</td>\n",
       "      <td>2.720284e+01</td>\n",
       "      <td>1.050309e+01</td>\n",
       "      <td>2.252841e+01</td>\n",
       "      <td>4.584549e+00</td>\n",
       "      <td>7.519589e+00</td>\n",
       "      <td>3.517346e+00</td>\n",
       "      <td>3.161220e+01</td>\n",
       "      <td>3.384781e+01</td>\n",
       "      <td>25691.160000</td>\n",
       "      <td>1.000000</td>\n",
       "    </tr>\n",
       "  </tbody>\n",
       "</table>\n",
       "<p>8 rows × 31 columns</p>\n",
       "</div>"
      ],
      "text/plain": [
       "                Time            V1            V2            V3            V4  \\\n",
       "count  284807.000000  2.848070e+05  2.848070e+05  2.848070e+05  2.848070e+05   \n",
       "mean    94813.859575  3.919560e-15  5.688174e-16 -8.769071e-15  2.782312e-15   \n",
       "std     47488.145955  1.958696e+00  1.651309e+00  1.516255e+00  1.415869e+00   \n",
       "min         0.000000 -5.640751e+01 -7.271573e+01 -4.832559e+01 -5.683171e+00   \n",
       "25%     54201.500000 -9.203734e-01 -5.985499e-01 -8.903648e-01 -8.486401e-01   \n",
       "50%     84692.000000  1.810880e-02  6.548556e-02  1.798463e-01 -1.984653e-02   \n",
       "75%    139320.500000  1.315642e+00  8.037239e-01  1.027196e+00  7.433413e-01   \n",
       "max    172792.000000  2.454930e+00  2.205773e+01  9.382558e+00  1.687534e+01   \n",
       "\n",
       "                 V5            V6            V7            V8            V9  \\\n",
       "count  2.848070e+05  2.848070e+05  2.848070e+05  2.848070e+05  2.848070e+05   \n",
       "mean  -1.552563e-15  2.010663e-15 -1.694249e-15 -1.927028e-16 -3.137024e-15   \n",
       "std    1.380247e+00  1.332271e+00  1.237094e+00  1.194353e+00  1.098632e+00   \n",
       "min   -1.137433e+02 -2.616051e+01 -4.355724e+01 -7.321672e+01 -1.343407e+01   \n",
       "25%   -6.915971e-01 -7.682956e-01 -5.540759e-01 -2.086297e-01 -6.430976e-01   \n",
       "50%   -5.433583e-02 -2.741871e-01  4.010308e-02  2.235804e-02 -5.142873e-02   \n",
       "75%    6.119264e-01  3.985649e-01  5.704361e-01  3.273459e-01  5.971390e-01   \n",
       "max    3.480167e+01  7.330163e+01  1.205895e+02  2.000721e+01  1.559499e+01   \n",
       "\n",
       "       ...           V21           V22           V23           V24  \\\n",
       "count  ...  2.848070e+05  2.848070e+05  2.848070e+05  2.848070e+05   \n",
       "mean   ...  1.537294e-16  7.959909e-16  5.367590e-16  4.458112e-15   \n",
       "std    ...  7.345240e-01  7.257016e-01  6.244603e-01  6.056471e-01   \n",
       "min    ... -3.483038e+01 -1.093314e+01 -4.480774e+01 -2.836627e+00   \n",
       "25%    ... -2.283949e-01 -5.423504e-01 -1.618463e-01 -3.545861e-01   \n",
       "50%    ... -2.945017e-02  6.781943e-03 -1.119293e-02  4.097606e-02   \n",
       "75%    ...  1.863772e-01  5.285536e-01  1.476421e-01  4.395266e-01   \n",
       "max    ...  2.720284e+01  1.050309e+01  2.252841e+01  4.584549e+00   \n",
       "\n",
       "                V25           V26           V27           V28         Amount  \\\n",
       "count  2.848070e+05  2.848070e+05  2.848070e+05  2.848070e+05  284807.000000   \n",
       "mean   1.453003e-15  1.699104e-15 -3.660161e-16 -1.206049e-16      88.349619   \n",
       "std    5.212781e-01  4.822270e-01  4.036325e-01  3.300833e-01     250.120109   \n",
       "min   -1.029540e+01 -2.604551e+00 -2.256568e+01 -1.543008e+01       0.000000   \n",
       "25%   -3.171451e-01 -3.269839e-01 -7.083953e-02 -5.295979e-02       5.600000   \n",
       "50%    1.659350e-02 -5.213911e-02  1.342146e-03  1.124383e-02      22.000000   \n",
       "75%    3.507156e-01  2.409522e-01  9.104512e-02  7.827995e-02      77.165000   \n",
       "max    7.519589e+00  3.517346e+00  3.161220e+01  3.384781e+01   25691.160000   \n",
       "\n",
       "               Class  \n",
       "count  284807.000000  \n",
       "mean        0.001727  \n",
       "std         0.041527  \n",
       "min         0.000000  \n",
       "25%         0.000000  \n",
       "50%         0.000000  \n",
       "75%         0.000000  \n",
       "max         1.000000  \n",
       "\n",
       "[8 rows x 31 columns]"
      ]
     },
     "execution_count": 56,
     "metadata": {},
     "output_type": "execute_result"
    }
   ],
   "source": [
    "# Exploring the dataset \n",
    "df.describe()"
   ]
  },
  {
   "cell_type": "code",
   "execution_count": 57,
   "metadata": {},
   "outputs": [
    {
     "data": {
      "text/plain": [
       "Time      284807\n",
       "V1        284807\n",
       "V2        284807\n",
       "V3        284807\n",
       "V4        284807\n",
       "V5        284807\n",
       "V6        284807\n",
       "V7        284807\n",
       "V8        284807\n",
       "V9        284807\n",
       "V10       284807\n",
       "V11       284807\n",
       "V12       284807\n",
       "V13       284807\n",
       "V14       284807\n",
       "V15       284807\n",
       "V16       284807\n",
       "V17       284807\n",
       "V18       284807\n",
       "V19       284807\n",
       "V20       284807\n",
       "V21       284807\n",
       "V22       284807\n",
       "V23       284807\n",
       "V24       284807\n",
       "V25       284807\n",
       "V26       284807\n",
       "V27       284807\n",
       "V28       284807\n",
       "Amount    284807\n",
       "Class     284807\n",
       "dtype: int64"
      ]
     },
     "execution_count": 57,
     "metadata": {},
     "output_type": "execute_result"
    },
    {
     "data": {
      "text/plain": [
       "284807"
      ]
     },
     "execution_count": 57,
     "metadata": {},
     "output_type": "execute_result"
    }
   ],
   "source": [
    "# Checking the dataset and looking for d\n",
    "df.isnull().count()\n",
    "df.duplicated().count()"
   ]
  },
  {
   "cell_type": "code",
   "execution_count": 58,
   "metadata": {},
   "outputs": [
    {
     "data": {
      "text/plain": [
       "<Figure size 360x360 with 0 Axes>"
      ]
     },
     "execution_count": 58,
     "metadata": {},
     "output_type": "execute_result"
    },
    {
     "data": {
      "text/plain": [
       "(array([284315.,      0.,      0.,      0.,    492.]),\n",
       " array([0. , 0.2, 0.4, 0.6, 0.8, 1. ]),\n",
       " <a list of 5 Patch objects>)"
      ]
     },
     "execution_count": 58,
     "metadata": {},
     "output_type": "execute_result"
    },
    {
     "data": {
      "text/plain": [
       "Text(0.5, 1.0, 'Histogram of Fraud and Normal')"
      ]
     },
     "execution_count": 58,
     "metadata": {},
     "output_type": "execute_result"
    },
    {
     "data": {
      "text/plain": [
       "Text(0.5, 0, 'Class')"
      ]
     },
     "execution_count": 58,
     "metadata": {},
     "output_type": "execute_result"
    },
    {
     "data": {
      "text/plain": [
       "Text(0, 0.5, 'Number of Features')"
      ]
     },
     "execution_count": 58,
     "metadata": {},
     "output_type": "execute_result"
    },
    {
     "data": {
      "image/png": "[encoded data removed]",
      "text/plain": [
       "<Figure size 360x360 with 1 Axes>"
      ]
     },
     "metadata": {
      "needs_background": "light"
     },
     "output_type": "display_data"
    }
   ],
   "source": [
    "# Crating a histogram to check the number of fradulant and non fradulant cases\n",
    "import seaborn as sns\n",
    "import matplotlib.pylab as plt\n",
    "%matplotlib inline\n",
    "plt.figure(figsize=(5,5))\n",
    "plt.hist(df[\"Class\"],bins=5, color=\"red\")\n",
    "plt.title(\"Histogram of Fraud and Normal\")\n",
    "plt.xlabel(\"Class\")\n",
    "plt.ylabel(\"Number of Features\")"
   ]
  },
  {
   "cell_type": "code",
   "execution_count": 59,
   "metadata": {},
   "outputs": [],
   "source": [
    "# Creating two class 0 and 1 into different variables\n",
    "new_df_zero=df.groupby(['Class']).get_group(0)\n",
    "new_df_one=df.groupby(['Class']).get_group(1)"
   ]
  },
  {
   "cell_type": "code",
   "execution_count": 60,
   "metadata": {},
   "outputs": [],
   "source": [
    "# Taking the sample size of 1000 from zero\n",
    "new_one=new_df_zero.sample(n=1000)"
   ]
  },
  {
   "cell_type": "code",
   "execution_count": 61,
   "metadata": {},
   "outputs": [],
   "source": [
    "# Combined the datasets\n",
    "result= pd.concat([new_df_one, new_one], axis=0)"
   ]
  },
  {
   "cell_type": "code",
   "execution_count": 62,
   "metadata": {},
   "outputs": [],
   "source": [
    "# Randomly selecting those 1000 datasets to check if our model works perfectly or not\n",
    "#result= result1.iloc[np.random.permutation(len(result1))]"
   ]
  },
  {
   "cell_type": "code",
   "execution_count": 64,
   "metadata": {},
   "outputs": [
    {
     "name": "stdout",
     "output_type": "stream",
     "text": [
      "Total Fradulent Cases:  492\n",
      "Total Non Fradulent Cases:  1000\n",
      "Dimension of the dataset: (1492, 31)\n",
      "List of features are:  Index(['Time', 'V1', 'V2', 'V3', 'V4', 'V5', 'V6', 'V7', 'V8', 'V9', 'V10',\n",
      "       'V11', 'V12', 'V13', 'V14', 'V15', 'V16', 'V17', 'V18', 'V19', 'V20',\n",
      "       'V21', 'V22', 'V23', 'V24', 'V25', 'V26', 'V27', 'V28', 'Amount',\n",
      "       'Class'],\n",
      "      dtype='object')\n"
     ]
    }
   ],
   "source": [
    "# Total number of faud and nomal transaction\n",
    "print(\"Total Fradulent Cases: \",len(result[result[\"Class\"]==1]))\n",
    "print(\"Total Non Fradulent Cases: \",len(result[result[\"Class\"]==0]))\n",
    "print(\"Dimension of the dataset:\",result.shape)\n",
    "print(\"List of features are: \", result.columns)"
   ]
  },
  {
   "cell_type": "code",
   "execution_count": 100,
   "metadata": {},
   "outputs": [
    {
     "data": {
      "text/plain": [
       "<Figure size 360x360 with 0 Axes>"
      ]
     },
     "execution_count": 100,
     "metadata": {},
     "output_type": "execute_result"
    },
    {
     "data": {
      "text/plain": [
       "(array([1000.,    0.,    0.,    0.,  492.]),\n",
       " array([0. , 0.2, 0.4, 0.6, 0.8, 1. ]),\n",
       " <a list of 5 Patch objects>)"
      ]
     },
     "execution_count": 100,
     "metadata": {},
     "output_type": "execute_result"
    },
    {
     "data": {
      "text/plain": [
       "Text(0.5, 1.0, 'Histogram of Fraud and Normal')"
      ]
     },
     "execution_count": 100,
     "metadata": {},
     "output_type": "execute_result"
    },
    {
     "data": {
      "text/plain": [
       "Text(0.5, 0, 'Class')"
      ]
     },
     "execution_count": 100,
     "metadata": {},
     "output_type": "execute_result"
    },
    {
     "data": {
      "text/plain": [
       "Text(0, 0.5, 'Fraud vs Normal Trans')"
      ]
     },
     "execution_count": 100,
     "metadata": {},
     "output_type": "execute_result"
    },
    {
     "data": {
      "image/png": "[encoded data removed]",
      "text/plain": [
       "<Figure size 360x360 with 1 Axes>"
      ]
     },
     "metadata": {
      "needs_background": "light"
     },
     "output_type": "display_data"
    }
   ],
   "source": [
    "# Crating a histogram to check the number of fradulant and non fradulant cases\n",
    "import seaborn as sns\n",
    "import matplotlib.pylab as plt\n",
    "%matplotlib inline\n",
    "plt.figure(figsize=(5,5))\n",
    "plt.hist(result[\"Class\"],bins=5, color=\"teal\")\n",
    "plt.title(\"Histogram of Fraud and Normal\")\n",
    "plt.xlabel(\"Class\")\n",
    "plt.ylabel(\"Fraud vs Normal Transaction\")"
   ]
  },
  {
   "cell_type": "code",
   "execution_count": 66,
   "metadata": {},
   "outputs": [
    {
     "data": {
      "text/plain": [
       "array([[<matplotlib.axes._subplots.AxesSubplot object at 0x7f93ef7634d0>,\n",
       "        <matplotlib.axes._subplots.AxesSubplot object at 0x7f93ef8eaa90>,\n",
       "        <matplotlib.axes._subplots.AxesSubplot object at 0x7f93efa2ad90>,\n",
       "        <matplotlib.axes._subplots.AxesSubplot object at 0x7f93f09e6c10>,\n",
       "        <matplotlib.axes._subplots.AxesSubplot object at 0x7f93f0a1df10>,\n",
       "        <matplotlib.axes._subplots.AxesSubplot object at 0x7f93f0a546d0>],\n",
       "       [<matplotlib.axes._subplots.AxesSubplot object at 0x7f93f0a8b9d0>,\n",
       "        <matplotlib.axes._subplots.AxesSubplot object at 0x7f93f0ac4cd0>,\n",
       "        <matplotlib.axes._subplots.AxesSubplot object at 0x7f93f0acf850>,\n",
       "        <matplotlib.axes._subplots.AxesSubplot object at 0x7f93f0b06c90>,\n",
       "        <matplotlib.axes._subplots.AxesSubplot object at 0x7f93f0b79610>,\n",
       "        <matplotlib.axes._subplots.AxesSubplot object at 0x7f93f0bb1910>],\n",
       "       [<matplotlib.axes._subplots.AxesSubplot object at 0x7f93f0be7c10>,\n",
       "        <matplotlib.axes._subplots.AxesSubplot object at 0x7f93f0c1ef10>,\n",
       "        <matplotlib.axes._subplots.AxesSubplot object at 0x7f93f0c63d90>,\n",
       "        <matplotlib.axes._subplots.AxesSubplot object at 0x7f93f0c9c550>,\n",
       "        <matplotlib.axes._subplots.AxesSubplot object at 0x7f93f0cd4850>,\n",
       "        <matplotlib.axes._subplots.AxesSubplot object at 0x7f93f0d0db50>],\n",
       "       [<matplotlib.axes._subplots.AxesSubplot object at 0x7f93f0d42ed0>,\n",
       "        <matplotlib.axes._subplots.AxesSubplot object at 0x7f93f0d85710>,\n",
       "        <matplotlib.axes._subplots.AxesSubplot object at 0x7f93f0db8f10>,\n",
       "        <matplotlib.axes._subplots.AxesSubplot object at 0x7f93f0dfc750>,\n",
       "        <matplotlib.axes._subplots.AxesSubplot object at 0x7f941259b9d0>,\n",
       "        <matplotlib.axes._subplots.AxesSubplot object at 0x7f9413e100d0>],\n",
       "       [<matplotlib.axes._subplots.AxesSubplot object at 0x7f9413bf8e10>,\n",
       "        <matplotlib.axes._subplots.AxesSubplot object at 0x7f9413b1be50>,\n",
       "        <matplotlib.axes._subplots.AxesSubplot object at 0x7f9413b57410>,\n",
       "        <matplotlib.axes._subplots.AxesSubplot object at 0x7f9413270c50>,\n",
       "        <matplotlib.axes._subplots.AxesSubplot object at 0x7f9413597a50>,\n",
       "        <matplotlib.axes._subplots.AxesSubplot object at 0x7f94135d5e90>],\n",
       "       [<matplotlib.axes._subplots.AxesSubplot object at 0x7f9413311a90>,\n",
       "        <matplotlib.axes._subplots.AxesSubplot object at 0x7f9414044ed0>,\n",
       "        <matplotlib.axes._subplots.AxesSubplot object at 0x7f9413ea0ad0>,\n",
       "        <matplotlib.axes._subplots.AxesSubplot object at 0x7f93efb1bf10>,\n",
       "        <matplotlib.axes._subplots.AxesSubplot object at 0x7f93f07c3b10>,\n",
       "        <matplotlib.axes._subplots.AxesSubplot object at 0x7f93f0803f50>]],\n",
       "      dtype=object)"
      ]
     },
     "execution_count": 66,
     "metadata": {},
     "output_type": "execute_result"
    },
    {
     "data": {
      "image/png": "[encoded data removed]",
      "text/plain": [
       "<Figure size 1440x1440 with 36 Axes>"
      ]
     },
     "metadata": {
      "needs_background": "light"
     },
     "output_type": "display_data"
    }
   ],
   "source": [
    "result.hist(figsize=(20,20),color='navajowhite')\n",
    "plt.show()"
   ]
  },
  {
   "cell_type": "markdown",
   "metadata": {},
   "source": [
    "# Principal Component Analysis (PCA)"
   ]
  },
  {
   "cell_type": "code",
   "execution_count": 67,
   "metadata": {},
   "outputs": [
    {
     "data": {
      "text/plain": [
       "(284807, 28)"
      ]
     },
     "execution_count": 67,
     "metadata": {},
     "output_type": "execute_result"
    },
    {
     "data": {
      "text/plain": [
       "array([0.12483757, 0.08872945, 0.07480934, 0.06523148, 0.06199045,\n",
       "       0.05775592, 0.04979852, 0.04641696, 0.03927497, 0.03857867,\n",
       "       0.03390148, 0.03248758, 0.03223271, 0.02990076, 0.02726173,\n",
       "       0.02498448, 0.02347316, 0.0228603 , 0.02156271, 0.01933907,\n",
       "       0.01755591, 0.01713671, 0.01268881, 0.01193577, 0.00884199,\n",
       "       0.00756684, 0.00530131, 0.00354534])"
      ]
     },
     "execution_count": 67,
     "metadata": {},
     "output_type": "execute_result"
    },
    {
     "data": {
      "text/plain": [
       "<BarContainer object of 28 artists>"
      ]
     },
     "execution_count": 67,
     "metadata": {},
     "output_type": "execute_result"
    },
    {
     "data": {
      "image/png": "[encoded data removed]",
      "text/plain": [
       "<Figure size 432x288 with 1 Axes>"
      ]
     },
     "metadata": {
      "needs_background": "light"
     },
     "output_type": "display_data"
    }
   ],
   "source": [
    "from sklearn import datasets\n",
    "from sklearn.decomposition import PCA\n",
    "import numpy as np\n",
    "\n",
    "\n",
    "# Use Scikit to do PCA on dataset\n",
    "creditcard = ['V1', 'V2', 'V3', 'V4', 'V5', 'V6', 'V7', 'V8', 'V9', 'V10','V11', 'V12', 'V13', 'V14', 'V15', 'V16', 'V17', 'V18', 'V19', 'V20','V21', 'V22', 'V23', 'V24', 'V25', 'V26', 'V27', 'V28']\n",
    "x = df.loc[:, creditcard].values\n",
    "\n",
    "# Create a regular PCA model \n",
    "pca_all = PCA()\n",
    "\n",
    "# Fit and transform the data to the model with 28 categories\n",
    "reduced_data_pca = pca_all.fit_transform(x)\n",
    "\n",
    "# Inspect the shape\n",
    "reduced_data_pca.shape\n",
    "pca_all.explained_variance_ratio_\n",
    "plt.bar(np.arange(28),pca_all.explained_variance_ratio_)"
   ]
  },
  {
   "cell_type": "code",
   "execution_count": 68,
   "metadata": {},
   "outputs": [
    {
     "name": "stdout",
     "output_type": "stream",
     "text": [
      "The number of dimensions needed: 22\n"
     ]
    }
   ],
   "source": [
    "variance = 0\n",
    "for i, v in enumerate(pca_all.explained_variance_ratio_):\n",
    "    variance += v\n",
    "    if variance > 0.95:\n",
    "        break\n",
    "\n",
    "print('The number of dimensions needed:', i+1)"
   ]
  },
  {
   "cell_type": "markdown",
   "metadata": {},
   "source": [
    "# Machine Learning"
   ]
  },
  {
   "cell_type": "code",
   "execution_count": 69,
   "metadata": {},
   "outputs": [],
   "source": [
    "# Split datasets, one for training & test, and using scaler to scale the datasets\n",
    "from sklearn.model_selection import train_test_split\n",
    "from sklearn.preprocessing import StandardScaler\n",
    "scalar = StandardScaler()\n",
    "X = result.loc[:, result.columns != 'Class']\n",
    "Y = result['Class']\n",
    "X_train, X_test, y_train, y_test = train_test_split(X, Y, test_size=0.3, random_state=42)\n",
    "X_train_scale = scalar.fit_transform(X_train)\n",
    "X_test_scale = scalar.transform(X_test)"
   ]
  },
  {
   "cell_type": "code",
   "execution_count": 70,
   "metadata": {},
   "outputs": [
    {
     "data": {
      "text/plain": [
       "LogisticRegression(C=1.0, class_weight=None, dual=False, fit_intercept=True,\n",
       "                   intercept_scaling=1, l1_ratio=None, max_iter=100,\n",
       "                   multi_class='auto', n_jobs=None, penalty='l2',\n",
       "                   random_state=None, solver='lbfgs', tol=0.0001, verbose=0,\n",
       "                   warm_start=False)"
      ]
     },
     "execution_count": 70,
     "metadata": {},
     "output_type": "execute_result"
    }
   ],
   "source": [
    "# Using Logistic regression\n",
    "from sklearn.linear_model import LogisticRegression\n",
    "logreg = LogisticRegression()\n",
    "logreg.fit(X_train_scale, y_train)"
   ]
  },
  {
   "cell_type": "code",
   "execution_count": 98,
   "metadata": {},
   "outputs": [
    {
     "name": "stdout",
     "output_type": "stream",
     "text": [
      "Training accuracy is  0.9578544061302682\n",
      "Testing accuracy is  0.9665178571428571\n"
     ]
    }
   ],
   "source": [
    "# Showing the training score. \n",
    "train_score = logreg.score(X_train_scale, y_train)\n",
    "print('Training accuracy is ', train_score)\n",
    "# Showing the testing score. \n",
    "test_score = logreg.score(X_test_scale, y_test)\n",
    "print('Testing accuracy is ', test_score)"
   ]
  },
  {
   "cell_type": "code",
   "execution_count": 72,
   "metadata": {},
   "outputs": [
    {
     "data": {
      "text/plain": [
       "array([[-3.27970029e-01,  3.71899472e-01,  5.02799811e-02,\n",
       "        -3.82128726e-01,  2.11627254e+00,  9.96481501e-01,\n",
       "        -4.13216312e-01,  3.01604858e-02, -1.11222389e+00,\n",
       "        -2.72477067e-01, -1.35010574e+00,  4.87948583e-01,\n",
       "        -1.62084752e+00, -2.00911043e-01, -2.67165104e+00,\n",
       "        -1.54537357e-01, -7.49942638e-01, -5.77244971e-01,\n",
       "        -1.24081566e-01,  1.03345237e-01, -4.13502386e-01,\n",
       "         3.62332125e-01,  2.96625859e-01, -1.04862557e-01,\n",
       "         5.85587357e-02,  1.77972043e-01, -4.82865182e-05,\n",
       "        -7.42743468e-02,  3.80187591e-01,  4.95657803e-01]])"
      ]
     },
     "execution_count": 72,
     "metadata": {},
     "output_type": "execute_result"
    },
    {
     "data": {
      "text/plain": [
       "array([1.33990622])"
      ]
     },
     "execution_count": 72,
     "metadata": {},
     "output_type": "execute_result"
    }
   ],
   "source": [
    "# Calculating the coefficient and intercept from above linear regression model\n",
    "logreg.coef_\n",
    "logreg.intercept_"
   ]
  },
  {
   "cell_type": "code",
   "execution_count": 73,
   "metadata": {},
   "outputs": [],
   "source": [
    "#Calculating the probability\n",
    "pred= logreg.predict(X_test_scale)\n",
    "prob= logreg.predict_proba(X_test_scale)"
   ]
  },
  {
   "cell_type": "code",
   "execution_count": 74,
   "metadata": {},
   "outputs": [
    {
     "data": {
      "text/html": [
       "<div>\n",
       "<style scoped>\n",
       "    .dataframe tbody tr th:only-of-type {\n",
       "        vertical-align: middle;\n",
       "    }\n",
       "\n",
       "    .dataframe tbody tr th {\n",
       "        vertical-align: top;\n",
       "    }\n",
       "\n",
       "    .dataframe thead th {\n",
       "        text-align: right;\n",
       "    }\n",
       "</style>\n",
       "<table border=\"1\" class=\"dataframe\">\n",
       "  <thead>\n",
       "    <tr style=\"text-align: right;\">\n",
       "      <th></th>\n",
       "      <th>0</th>\n",
       "      <th>1</th>\n",
       "      <th>pred</th>\n",
       "      <th>actual_Label</th>\n",
       "    </tr>\n",
       "  </thead>\n",
       "  <tbody>\n",
       "    <tr>\n",
       "      <th>0</th>\n",
       "      <td>0.969861</td>\n",
       "      <td>0.030139</td>\n",
       "      <td>0</td>\n",
       "      <td>0</td>\n",
       "    </tr>\n",
       "    <tr>\n",
       "      <th>1</th>\n",
       "      <td>0.963279</td>\n",
       "      <td>0.036721</td>\n",
       "      <td>0</td>\n",
       "      <td>0</td>\n",
       "    </tr>\n",
       "    <tr>\n",
       "      <th>2</th>\n",
       "      <td>0.978738</td>\n",
       "      <td>0.021262</td>\n",
       "      <td>0</td>\n",
       "      <td>0</td>\n",
       "    </tr>\n",
       "    <tr>\n",
       "      <th>3</th>\n",
       "      <td>0.979623</td>\n",
       "      <td>0.020377</td>\n",
       "      <td>0</td>\n",
       "      <td>0</td>\n",
       "    </tr>\n",
       "    <tr>\n",
       "      <th>4</th>\n",
       "      <td>0.983908</td>\n",
       "      <td>0.016092</td>\n",
       "      <td>0</td>\n",
       "      <td>0</td>\n",
       "    </tr>\n",
       "    <tr>\n",
       "      <th>...</th>\n",
       "      <td>...</td>\n",
       "      <td>...</td>\n",
       "      <td>...</td>\n",
       "      <td>...</td>\n",
       "    </tr>\n",
       "    <tr>\n",
       "      <th>443</th>\n",
       "      <td>0.989216</td>\n",
       "      <td>0.010784</td>\n",
       "      <td>0</td>\n",
       "      <td>0</td>\n",
       "    </tr>\n",
       "    <tr>\n",
       "      <th>444</th>\n",
       "      <td>0.994320</td>\n",
       "      <td>0.005680</td>\n",
       "      <td>0</td>\n",
       "      <td>0</td>\n",
       "    </tr>\n",
       "    <tr>\n",
       "      <th>445</th>\n",
       "      <td>0.995364</td>\n",
       "      <td>0.004636</td>\n",
       "      <td>0</td>\n",
       "      <td>0</td>\n",
       "    </tr>\n",
       "    <tr>\n",
       "      <th>446</th>\n",
       "      <td>0.742558</td>\n",
       "      <td>0.257442</td>\n",
       "      <td>0</td>\n",
       "      <td>0</td>\n",
       "    </tr>\n",
       "    <tr>\n",
       "      <th>447</th>\n",
       "      <td>0.003048</td>\n",
       "      <td>0.996952</td>\n",
       "      <td>1</td>\n",
       "      <td>1</td>\n",
       "    </tr>\n",
       "  </tbody>\n",
       "</table>\n",
       "<p>448 rows × 4 columns</p>\n",
       "</div>"
      ],
      "text/plain": [
       "            0         1  pred  actual_Label\n",
       "0    0.969861  0.030139     0             0\n",
       "1    0.963279  0.036721     0             0\n",
       "2    0.978738  0.021262     0             0\n",
       "3    0.979623  0.020377     0             0\n",
       "4    0.983908  0.016092     0             0\n",
       "..        ...       ...   ...           ...\n",
       "443  0.989216  0.010784     0             0\n",
       "444  0.994320  0.005680     0             0\n",
       "445  0.995364  0.004636     0             0\n",
       "446  0.742558  0.257442     0             0\n",
       "447  0.003048  0.996952     1             1\n",
       "\n",
       "[448 rows x 4 columns]"
      ]
     },
     "execution_count": 74,
     "metadata": {},
     "output_type": "execute_result"
    }
   ],
   "source": [
    "# Indentifying the actual labels from the prediction\n",
    "rel=pd.DataFrame(prob)\n",
    "rel[\"pred\"]= pred\n",
    "rel[\"actual_Label\"]= y_test.to_list()\n",
    "rel"
   ]
  },
  {
   "cell_type": "code",
   "execution_count": 75,
   "metadata": {},
   "outputs": [
    {
     "name": "stdout",
     "output_type": "stream",
     "text": [
      "[[296   5]\n",
      " [ 10 137]]\n",
      "              precision    recall  f1-score   support\n",
      "\n",
      "           0       0.97      0.98      0.98       301\n",
      "           1       0.96      0.93      0.95       147\n",
      "\n",
      "    accuracy                           0.97       448\n",
      "   macro avg       0.97      0.96      0.96       448\n",
      "weighted avg       0.97      0.97      0.97       448\n",
      "\n"
     ]
    }
   ],
   "source": [
    "# Calculating the recall, precision and F1 Score\n",
    "from sklearn.metrics import classification_report, confusion_matrix\n",
    "# Creating the confusion Matrix\n",
    "print(confusion_matrix(y_test, pred))\n",
    "# Creating the classification report\n",
    "print(classification_report(y_test, pred))"
   ]
  },
  {
   "cell_type": "code",
   "execution_count": 76,
   "metadata": {},
   "outputs": [
    {
     "data": {
      "text/plain": [
       "[<matplotlib.lines.Line2D at 0x7f93f0019850>]"
      ]
     },
     "execution_count": 76,
     "metadata": {},
     "output_type": "execute_result"
    },
    {
     "data": {
      "text/plain": [
       "0.9883607928221121"
      ]
     },
     "execution_count": 76,
     "metadata": {},
     "output_type": "execute_result"
    },
    {
     "data": {
      "text/plain": [
       "[<matplotlib.lines.Line2D at 0x7f93f0028250>]"
      ]
     },
     "execution_count": 76,
     "metadata": {},
     "output_type": "execute_result"
    },
    {
     "data": {
      "text/plain": [
       "Text(0.5, 1.0, 'ROC curve')"
      ]
     },
     "execution_count": 76,
     "metadata": {},
     "output_type": "execute_result"
    },
    {
     "data": {
      "text/plain": [
       "Text(0.5, 0, 'False positive rate')"
      ]
     },
     "execution_count": 76,
     "metadata": {},
     "output_type": "execute_result"
    },
    {
     "data": {
      "text/plain": [
       "Text(0, 0.5, 'True positive rate')"
      ]
     },
     "execution_count": 76,
     "metadata": {},
     "output_type": "execute_result"
    },
    {
     "data": {
      "image/png": "[encoded data removed]",
      "text/plain": [
       "<Figure size 432x288 with 1 Axes>"
      ]
     },
     "metadata": {
      "needs_background": "light"
     },
     "output_type": "display_data"
    }
   ],
   "source": [
    "#Plotting the RoC Curve\n",
    "from sklearn import metrics\n",
    "fpr,tpr,thre= metrics.roc_curve(y_test, prob[:,1])\n",
    "plt.plot(fpr, tpr)\n",
    "\n",
    "# Calculate the area under the curve\n",
    "metrics.auc(fpr,tpr)\n",
    "plt.plot([0,1], [0,1], 'k--')\n",
    "plt.title('ROC curve')\n",
    "plt.xlabel('False positive rate')\n",
    "plt.ylabel('True positive rate')\n",
    "\n",
    "# Higher the AUC, better the model is at predicting 0s as 0s and 1s as 1s."
   ]
  },
  {
   "cell_type": "code",
   "execution_count": 77,
   "metadata": {},
   "outputs": [
    {
     "data": {
      "text/plain": [
       "[<matplotlib.lines.Line2D at 0x7f93f00feb50>]"
      ]
     },
     "execution_count": 77,
     "metadata": {},
     "output_type": "execute_result"
    },
    {
     "data": {
      "text/plain": [
       "[<matplotlib.lines.Line2D at 0x7f93f0f07710>]"
      ]
     },
     "execution_count": 77,
     "metadata": {},
     "output_type": "execute_result"
    },
    {
     "data": {
      "image/png": "[encoded data removed]",
      "text/plain": [
       "<Figure size 432x288 with 1 Axes>"
      ]
     },
     "metadata": {
      "needs_background": "light"
     },
     "output_type": "display_data"
    }
   ],
   "source": [
    "#Calculating the probability\n",
    "import numpy as np\n",
    "pred= logreg.predict(X_test_scale)\n",
    "prob= logreg.predict_proba(X_test_scale)\n",
    "\n",
    "# Calculate the precision and recall\n",
    "\n",
    "from sklearn import metrics\n",
    "threshold= np.linspace(0,0.9,100)\n",
    "precision_list= []\n",
    "recall_list=[]\n",
    "for i in threshold:\n",
    "    my_pred = prob[:,1]>=i\n",
    "    precision_list.append(metrics.precision_score(y_test, my_pred))\n",
    "    recall_list.append(metrics.recall_score(y_test, my_pred))\n",
    "plt.plot(threshold, precision_list)\n",
    "plt.plot(threshold, recall_list, c=\"r\")\n"
   ]
  },
  {
   "cell_type": "markdown",
   "metadata": {},
   "source": [
    "## Deep Neural Networks\n",
    "Using Keras, build a DNN that has better accuracy than LR. What is the accuracy, precision and recall and F1 score for the training and the test data? Plot the ROC curve?"
   ]
  },
  {
   "cell_type": "code",
   "execution_count": 78,
   "metadata": {},
   "outputs": [],
   "source": [
    "# Loading the dataset\n",
    "X = result.loc[:, result.columns != 'Class']\n",
    "Y = result['Class']"
   ]
  },
  {
   "cell_type": "code",
   "execution_count": 79,
   "metadata": {},
   "outputs": [
    {
     "data": {
      "text/plain": [
       "(1492, 30)"
      ]
     },
     "execution_count": 79,
     "metadata": {},
     "output_type": "execute_result"
    }
   ],
   "source": [
    "# Using normalization in the dataset\n",
    "import tensorflow as tf\n",
    "train_set_x=tf.keras.utils.normalize(X, axis=1)\n",
    "train_set_x.shape"
   ]
  },
  {
   "cell_type": "code",
   "execution_count": 80,
   "metadata": {},
   "outputs": [],
   "source": [
    "# Using tensflow to build a model using various hidden layers\n",
    "from tensorflow.keras import models, layers, regularizers\n",
    "model = models.Sequential()\n",
    "model.add(layers.Dense(200, activation='relu', input_dim=30)) # Since we have 30 features we will get input_dim=30\n",
    "model.add(layers.Dense(120, activation = 'relu', kernel_initializer='uniform'))\n",
    "model.add(layers.Dropout(0.5))\n",
    "model.add(layers.Dense(55, activation = 'relu', kernel_initializer='uniform'))\n",
    "model.add(layers.Dropout(0.5))\n",
    "model.add(layers.Dense(1, kernel_initializer='uniform', activation = 'sigmoid'))"
   ]
  },
  {
   "cell_type": "code",
   "execution_count": 81,
   "metadata": {},
   "outputs": [],
   "source": [
    "model.compile(loss='binary_crossentropy', optimizer = tf.keras.optimizers.Adam(lr=0.001), metrics=['accuracy'])"
   ]
  },
  {
   "cell_type": "code",
   "execution_count": 82,
   "metadata": {},
   "outputs": [
    {
     "name": "stdout",
     "output_type": "stream",
     "text": [
      "Epoch 1/200\n",
      "30/30 [==============================] - 0s 1ms/step - loss: 0.6732 - accuracy: 0.6662\n",
      "Epoch 2/200\n",
      "30/30 [==============================] - 0s 1ms/step - loss: 0.6405 - accuracy: 0.6702\n",
      "Epoch 3/200\n",
      "30/30 [==============================] - 0s 1ms/step - loss: 0.6386 - accuracy: 0.6702\n",
      "Epoch 4/200\n",
      "30/30 [==============================] - 0s 1ms/step - loss: 0.6341 - accuracy: 0.6702\n",
      "Epoch 5/200\n",
      "30/30 [==============================] - 0s 1ms/step - loss: 0.6372 - accuracy: 0.6702\n",
      "Epoch 6/200\n",
      "30/30 [==============================] - 0s 1ms/step - loss: 0.6370 - accuracy: 0.6702\n",
      "Epoch 7/200\n",
      "30/30 [==============================] - 0s 1ms/step - loss: 0.6376 - accuracy: 0.6702\n",
      "Epoch 8/200\n",
      "30/30 [==============================] - 0s 1ms/step - loss: 0.6358 - accuracy: 0.6702\n",
      "Epoch 9/200\n",
      "30/30 [==============================] - 0s 1ms/step - loss: 0.6378 - accuracy: 0.6702\n",
      "Epoch 10/200\n",
      "30/30 [==============================] - 0s 1ms/step - loss: 0.6381 - accuracy: 0.6702\n",
      "Epoch 11/200\n",
      "30/30 [==============================] - 0s 1ms/step - loss: 0.6353 - accuracy: 0.6702\n",
      "Epoch 12/200\n",
      "30/30 [==============================] - 0s 1ms/step - loss: 0.6357 - accuracy: 0.6702\n",
      "Epoch 13/200\n",
      "30/30 [==============================] - 0s 1ms/step - loss: 0.6363 - accuracy: 0.6702\n",
      "Epoch 14/200\n",
      "30/30 [==============================] - 0s 1ms/step - loss: 0.6365 - accuracy: 0.6702\n",
      "Epoch 15/200\n",
      "30/30 [==============================] - 0s 1ms/step - loss: 0.6403 - accuracy: 0.6702\n",
      "Epoch 16/200\n",
      "30/30 [==============================] - 0s 1ms/step - loss: 0.6367 - accuracy: 0.6702\n",
      "Epoch 17/200\n",
      "30/30 [==============================] - 0s 1ms/step - loss: 0.6366 - accuracy: 0.6702\n",
      "Epoch 18/200\n",
      "30/30 [==============================] - 0s 1ms/step - loss: 0.6347 - accuracy: 0.6702\n",
      "Epoch 19/200\n",
      "30/30 [==============================] - 0s 2ms/step - loss: 0.6388 - accuracy: 0.6702\n",
      "Epoch 20/200\n",
      "30/30 [==============================] - 0s 1ms/step - loss: 0.6335 - accuracy: 0.6702\n",
      "Epoch 21/200\n",
      "30/30 [==============================] - 0s 1ms/step - loss: 0.6376 - accuracy: 0.6702\n",
      "Epoch 22/200\n",
      "30/30 [==============================] - 0s 1ms/step - loss: 0.6347 - accuracy: 0.6702\n",
      "Epoch 23/200\n",
      "30/30 [==============================] - 0s 1ms/step - loss: 0.6383 - accuracy: 0.6702\n",
      "Epoch 24/200\n",
      "30/30 [==============================] - 0s 1ms/step - loss: 0.6350 - accuracy: 0.6702\n",
      "Epoch 25/200\n",
      "30/30 [==============================] - 0s 1ms/step - loss: 0.6367 - accuracy: 0.6702\n",
      "Epoch 26/200\n",
      "30/30 [==============================] - 0s 1ms/step - loss: 0.6364 - accuracy: 0.6702\n",
      "Epoch 27/200\n",
      "30/30 [==============================] - 0s 1ms/step - loss: 0.6343 - accuracy: 0.6702\n",
      "Epoch 28/200\n",
      "30/30 [==============================] - 0s 1ms/step - loss: 0.6365 - accuracy: 0.6702\n",
      "Epoch 29/200\n",
      "30/30 [==============================] - 0s 1ms/step - loss: 0.6352 - accuracy: 0.6702\n",
      "Epoch 30/200\n",
      "30/30 [==============================] - 0s 1ms/step - loss: 0.6348 - accuracy: 0.6702\n",
      "Epoch 31/200\n",
      "30/30 [==============================] - 0s 1ms/step - loss: 0.6350 - accuracy: 0.6702\n",
      "Epoch 32/200\n",
      "30/30 [==============================] - 0s 1ms/step - loss: 0.6361 - accuracy: 0.6702\n",
      "Epoch 33/200\n",
      "30/30 [==============================] - 0s 1ms/step - loss: 0.6337 - accuracy: 0.6702\n",
      "Epoch 34/200\n",
      "30/30 [==============================] - 0s 1ms/step - loss: 0.6345 - accuracy: 0.6702\n",
      "Epoch 35/200\n",
      "30/30 [==============================] - 0s 1ms/step - loss: 0.6366 - accuracy: 0.6702\n",
      "Epoch 36/200\n",
      "30/30 [==============================] - 0s 1ms/step - loss: 0.6311 - accuracy: 0.6702\n",
      "Epoch 37/200\n",
      "30/30 [==============================] - 0s 1ms/step - loss: 0.6314 - accuracy: 0.6702\n",
      "Epoch 38/200\n",
      "30/30 [==============================] - 0s 1ms/step - loss: 0.6300 - accuracy: 0.6702\n",
      "Epoch 39/200\n",
      "30/30 [==============================] - 0s 1ms/step - loss: 0.6316 - accuracy: 0.6702\n",
      "Epoch 40/200\n",
      "30/30 [==============================] - 0s 1ms/step - loss: 0.6323 - accuracy: 0.6702\n",
      "Epoch 41/200\n",
      "30/30 [==============================] - 0s 1ms/step - loss: 0.6316 - accuracy: 0.6702\n",
      "Epoch 42/200\n",
      "30/30 [==============================] - 0s 1ms/step - loss: 0.6301 - accuracy: 0.6702\n",
      "Epoch 43/200\n",
      "30/30 [==============================] - 0s 1ms/step - loss: 0.6283 - accuracy: 0.6702\n",
      "Epoch 44/200\n",
      "30/30 [==============================] - 0s 1ms/step - loss: 0.6255 - accuracy: 0.6702\n",
      "Epoch 45/200\n",
      "30/30 [==============================] - 0s 1ms/step - loss: 0.6251 - accuracy: 0.6702\n",
      "Epoch 46/200\n",
      "30/30 [==============================] - 0s 1ms/step - loss: 0.6194 - accuracy: 0.6702\n",
      "Epoch 47/200\n",
      "30/30 [==============================] - 0s 1ms/step - loss: 0.6226 - accuracy: 0.6702\n",
      "Epoch 48/200\n",
      "30/30 [==============================] - 0s 1ms/step - loss: 0.6144 - accuracy: 0.6702\n",
      "Epoch 49/200\n",
      "30/30 [==============================] - 0s 1ms/step - loss: 0.6117 - accuracy: 0.6702\n",
      "Epoch 50/200\n",
      "30/30 [==============================] - 0s 1ms/step - loss: 0.6024 - accuracy: 0.6723\n",
      "Epoch 51/200\n",
      "30/30 [==============================] - 0s 1ms/step - loss: 0.5939 - accuracy: 0.6944\n",
      "Epoch 52/200\n",
      "30/30 [==============================] - 0s 1ms/step - loss: 0.5871 - accuracy: 0.7165\n",
      "Epoch 53/200\n",
      "30/30 [==============================] - 0s 1ms/step - loss: 0.5932 - accuracy: 0.7138\n",
      "Epoch 54/200\n",
      "30/30 [==============================] - 0s 1ms/step - loss: 0.5837 - accuracy: 0.7252\n",
      "Epoch 55/200\n",
      "30/30 [==============================] - 0s 1ms/step - loss: 0.5662 - accuracy: 0.7413\n",
      "Epoch 56/200\n",
      "30/30 [==============================] - 0s 1ms/step - loss: 0.5423 - accuracy: 0.7580\n",
      "Epoch 57/200\n",
      "30/30 [==============================] - 0s 1ms/step - loss: 0.5286 - accuracy: 0.7587\n",
      "Epoch 58/200\n",
      "30/30 [==============================] - 0s 1ms/step - loss: 0.5292 - accuracy: 0.7714\n",
      "Epoch 59/200\n",
      "30/30 [==============================] - 0s 1ms/step - loss: 0.5322 - accuracy: 0.7741\n",
      "Epoch 60/200\n",
      "30/30 [==============================] - 0s 1ms/step - loss: 0.4816 - accuracy: 0.8016\n",
      "Epoch 61/200\n",
      "30/30 [==============================] - 0s 1ms/step - loss: 0.5430 - accuracy: 0.7627\n",
      "Epoch 62/200\n",
      "30/30 [==============================] - 0s 1ms/step - loss: 0.4733 - accuracy: 0.8103\n",
      "Epoch 63/200\n",
      "30/30 [==============================] - 0s 1ms/step - loss: 0.5066 - accuracy: 0.7902\n",
      "Epoch 64/200\n",
      "30/30 [==============================] - 0s 1ms/step - loss: 0.4598 - accuracy: 0.8224\n",
      "Epoch 65/200\n",
      "30/30 [==============================] - 0s 1ms/step - loss: 0.4370 - accuracy: 0.8224\n",
      "Epoch 66/200\n",
      "30/30 [==============================] - 0s 1ms/step - loss: 0.4500 - accuracy: 0.8177\n",
      "Epoch 67/200\n",
      "30/30 [==============================] - 0s 1ms/step - loss: 0.3964 - accuracy: 0.8539\n",
      "Epoch 68/200\n",
      "30/30 [==============================] - 0s 1ms/step - loss: 0.4180 - accuracy: 0.8251\n",
      "Epoch 69/200\n",
      "30/30 [==============================] - 0s 1ms/step - loss: 0.3851 - accuracy: 0.8552\n",
      "Epoch 70/200\n",
      "30/30 [==============================] - 0s 1ms/step - loss: 0.3767 - accuracy: 0.8566\n",
      "Epoch 71/200\n",
      "30/30 [==============================] - 0s 1ms/step - loss: 0.3643 - accuracy: 0.8666\n",
      "Epoch 72/200\n",
      "30/30 [==============================] - 0s 1ms/step - loss: 0.4611 - accuracy: 0.8224\n",
      "Epoch 73/200\n",
      "30/30 [==============================] - 0s 1ms/step - loss: 0.4292 - accuracy: 0.8143\n",
      "Epoch 74/200\n",
      "30/30 [==============================] - 0s 1ms/step - loss: 0.4039 - accuracy: 0.8351\n",
      "Epoch 75/200\n",
      "30/30 [==============================] - 0s 1ms/step - loss: 0.3651 - accuracy: 0.8646\n",
      "Epoch 76/200\n",
      "30/30 [==============================] - 0s 1ms/step - loss: 0.3912 - accuracy: 0.8525\n",
      "Epoch 77/200\n",
      "30/30 [==============================] - 0s 1ms/step - loss: 0.4063 - accuracy: 0.8378\n",
      "Epoch 78/200\n",
      "30/30 [==============================] - 0s 1ms/step - loss: 0.3752 - accuracy: 0.8592\n",
      "Epoch 79/200\n",
      "30/30 [==============================] - 0s 1ms/step - loss: 0.3698 - accuracy: 0.8727\n",
      "Epoch 80/200\n",
      "30/30 [==============================] - 0s 1ms/step - loss: 0.3322 - accuracy: 0.8901\n",
      "Epoch 81/200\n",
      "30/30 [==============================] - 0s 1ms/step - loss: 0.3332 - accuracy: 0.8807\n",
      "Epoch 82/200\n",
      "30/30 [==============================] - 0s 1ms/step - loss: 0.3637 - accuracy: 0.8505\n",
      "Epoch 83/200\n",
      "30/30 [==============================] - 0s 1ms/step - loss: 0.3250 - accuracy: 0.8834\n",
      "Epoch 84/200\n",
      "30/30 [==============================] - 0s 2ms/step - loss: 0.3296 - accuracy: 0.8854\n",
      "Epoch 85/200\n",
      "30/30 [==============================] - 0s 1ms/step - loss: 0.3226 - accuracy: 0.8914\n",
      "Epoch 86/200\n",
      "30/30 [==============================] - 0s 2ms/step - loss: 0.2981 - accuracy: 0.9035\n",
      "Epoch 87/200\n",
      "30/30 [==============================] - 0s 1ms/step - loss: 0.2937 - accuracy: 0.8995\n",
      "Epoch 88/200\n",
      "30/30 [==============================] - 0s 1ms/step - loss: 0.3891 - accuracy: 0.8425\n",
      "Epoch 89/200\n",
      "30/30 [==============================] - 0s 1ms/step - loss: 0.3019 - accuracy: 0.8995\n",
      "Epoch 90/200\n",
      "30/30 [==============================] - 0s 1ms/step - loss: 0.2768 - accuracy: 0.9109\n",
      "Epoch 91/200\n",
      "30/30 [==============================] - 0s 1ms/step - loss: 0.2931 - accuracy: 0.9021\n",
      "Epoch 92/200\n",
      "30/30 [==============================] - 0s 1ms/step - loss: 0.3143 - accuracy: 0.8948\n",
      "Epoch 93/200\n",
      "30/30 [==============================] - 0s 1ms/step - loss: 0.3146 - accuracy: 0.8894\n",
      "Epoch 94/200\n",
      "30/30 [==============================] - 0s 1ms/step - loss: 0.3133 - accuracy: 0.8988\n",
      "Epoch 95/200\n",
      "30/30 [==============================] - 0s 1ms/step - loss: 0.2989 - accuracy: 0.8981\n",
      "Epoch 96/200\n",
      "30/30 [==============================] - 0s 1ms/step - loss: 0.3263 - accuracy: 0.8901\n",
      "Epoch 97/200\n",
      "30/30 [==============================] - 0s 1ms/step - loss: 0.2922 - accuracy: 0.8975\n",
      "Epoch 98/200\n",
      "30/30 [==============================] - 0s 1ms/step - loss: 0.3888 - accuracy: 0.8613\n",
      "Epoch 99/200\n",
      "30/30 [==============================] - 0s 1ms/step - loss: 0.3036 - accuracy: 0.8961\n",
      "Epoch 100/200\n",
      "30/30 [==============================] - 0s 1ms/step - loss: 0.3239 - accuracy: 0.8794\n",
      "Epoch 101/200\n",
      "30/30 [==============================] - 0s 1ms/step - loss: 0.4244 - accuracy: 0.8465\n",
      "Epoch 102/200\n",
      "30/30 [==============================] - 0s 1ms/step - loss: 0.2967 - accuracy: 0.9102\n",
      "Epoch 103/200\n",
      "30/30 [==============================] - 0s 1ms/step - loss: 0.3299 - accuracy: 0.8881\n",
      "Epoch 104/200\n",
      "30/30 [==============================] - 0s 1ms/step - loss: 0.2800 - accuracy: 0.9088\n",
      "Epoch 105/200\n",
      "30/30 [==============================] - 0s 1ms/step - loss: 0.2738 - accuracy: 0.9149\n",
      "Epoch 106/200\n",
      "30/30 [==============================] - 0s 1ms/step - loss: 0.2616 - accuracy: 0.9216\n",
      "Epoch 107/200\n",
      "30/30 [==============================] - 0s 1ms/step - loss: 0.3218 - accuracy: 0.8908\n",
      "Epoch 108/200\n",
      "30/30 [==============================] - 0s 2ms/step - loss: 0.2637 - accuracy: 0.9189\n",
      "Epoch 109/200\n",
      "30/30 [==============================] - 0s 1ms/step - loss: 0.3542 - accuracy: 0.8794\n",
      "Epoch 110/200\n",
      "30/30 [==============================] - 0s 1ms/step - loss: 0.4515 - accuracy: 0.8358\n",
      "Epoch 111/200\n",
      "30/30 [==============================] - 0s 1ms/step - loss: 0.3410 - accuracy: 0.8753\n",
      "Epoch 112/200\n",
      "30/30 [==============================] - 0s 1ms/step - loss: 0.2890 - accuracy: 0.9068\n",
      "Epoch 113/200\n",
      "30/30 [==============================] - 0s 1ms/step - loss: 0.2611 - accuracy: 0.9209\n",
      "Epoch 114/200\n",
      "30/30 [==============================] - 0s 1ms/step - loss: 0.2653 - accuracy: 0.9142\n",
      "Epoch 115/200\n",
      "30/30 [==============================] - 0s 1ms/step - loss: 0.4375 - accuracy: 0.8338\n",
      "Epoch 116/200\n",
      "30/30 [==============================] - 0s 1ms/step - loss: 0.4747 - accuracy: 0.8338\n",
      "Epoch 117/200\n",
      "30/30 [==============================] - 0s 1ms/step - loss: 0.3182 - accuracy: 0.9035\n",
      "Epoch 118/200\n",
      "30/30 [==============================] - 0s 1ms/step - loss: 0.2710 - accuracy: 0.9236\n",
      "Epoch 119/200\n",
      "30/30 [==============================] - 0s 1ms/step - loss: 0.2618 - accuracy: 0.9216\n",
      "Epoch 120/200\n",
      "30/30 [==============================] - 0s 1ms/step - loss: 0.2610 - accuracy: 0.9176\n",
      "Epoch 121/200\n",
      "30/30 [==============================] - 0s 1ms/step - loss: 0.5052 - accuracy: 0.8358\n",
      "Epoch 122/200\n",
      "30/30 [==============================] - 0s 1ms/step - loss: 0.3600 - accuracy: 0.8753\n",
      "Epoch 123/200\n",
      "30/30 [==============================] - 0s 1ms/step - loss: 0.2761 - accuracy: 0.9196\n",
      "Epoch 124/200\n",
      "30/30 [==============================] - 0s 1ms/step - loss: 0.3369 - accuracy: 0.8747\n",
      "Epoch 125/200\n",
      "30/30 [==============================] - 0s 1ms/step - loss: 0.3316 - accuracy: 0.8787\n",
      "Epoch 126/200\n",
      "30/30 [==============================] - 0s 1ms/step - loss: 0.2936 - accuracy: 0.9028\n",
      "Epoch 127/200\n",
      "30/30 [==============================] - 0s 1ms/step - loss: 0.3807 - accuracy: 0.8686\n",
      "Epoch 128/200\n",
      "30/30 [==============================] - 0s 1ms/step - loss: 0.2648 - accuracy: 0.9316\n",
      "Epoch 129/200\n",
      "30/30 [==============================] - 0s 1ms/step - loss: 0.2742 - accuracy: 0.9102\n",
      "Epoch 130/200\n",
      "30/30 [==============================] - 0s 1ms/step - loss: 0.2590 - accuracy: 0.9216\n",
      "Epoch 131/200\n",
      "30/30 [==============================] - 0s 1ms/step - loss: 0.3277 - accuracy: 0.8794\n",
      "Epoch 132/200\n",
      "30/30 [==============================] - 0s 1ms/step - loss: 0.2467 - accuracy: 0.9276\n",
      "Epoch 133/200\n",
      "30/30 [==============================] - 0s 1ms/step - loss: 0.2427 - accuracy: 0.9263\n",
      "Epoch 134/200\n",
      "30/30 [==============================] - 0s 1ms/step - loss: 0.2382 - accuracy: 0.9216\n",
      "Epoch 135/200\n",
      "30/30 [==============================] - 0s 1ms/step - loss: 0.2272 - accuracy: 0.9269\n",
      "Epoch 136/200\n",
      "30/30 [==============================] - 0s 1ms/step - loss: 0.4557 - accuracy: 0.8432\n",
      "Epoch 137/200\n",
      "30/30 [==============================] - 0s 1ms/step - loss: 0.6097 - accuracy: 0.8090\n",
      "Epoch 138/200\n",
      "30/30 [==============================] - 0s 1ms/step - loss: 0.3529 - accuracy: 0.8975\n",
      "Epoch 139/200\n",
      "30/30 [==============================] - 0s 1ms/step - loss: 0.3043 - accuracy: 0.9223\n",
      "Epoch 140/200\n",
      "30/30 [==============================] - 0s 2ms/step - loss: 0.3074 - accuracy: 0.8961\n",
      "Epoch 141/200\n",
      "30/30 [==============================] - 0s 1ms/step - loss: 0.3335 - accuracy: 0.8820\n",
      "Epoch 142/200\n",
      "30/30 [==============================] - 0s 1ms/step - loss: 0.3231 - accuracy: 0.8861\n",
      "Epoch 143/200\n",
      "30/30 [==============================] - 0s 1ms/step - loss: 0.3036 - accuracy: 0.8995\n",
      "Epoch 144/200\n",
      "30/30 [==============================] - 0s 1ms/step - loss: 0.3882 - accuracy: 0.8606\n",
      "Epoch 145/200\n",
      "30/30 [==============================] - 0s 1ms/step - loss: 0.3072 - accuracy: 0.8975\n",
      "Epoch 146/200\n",
      "30/30 [==============================] - 0s 1ms/step - loss: 0.2546 - accuracy: 0.9303\n",
      "Epoch 147/200\n",
      "30/30 [==============================] - 0s 1ms/step - loss: 0.2826 - accuracy: 0.9048\n",
      "Epoch 148/200\n",
      "30/30 [==============================] - 0s 1ms/step - loss: 0.3659 - accuracy: 0.8700\n",
      "Epoch 149/200\n",
      "30/30 [==============================] - 0s 1ms/step - loss: 0.3824 - accuracy: 0.8559\n",
      "Epoch 150/200\n",
      "30/30 [==============================] - 0s 1ms/step - loss: 0.2704 - accuracy: 0.9229\n",
      "Epoch 151/200\n",
      "30/30 [==============================] - 0s 1ms/step - loss: 0.3143 - accuracy: 0.8921\n",
      "Epoch 152/200\n",
      "30/30 [==============================] - 0s 1ms/step - loss: 0.2670 - accuracy: 0.9155\n",
      "Epoch 153/200\n",
      "30/30 [==============================] - 0s 1ms/step - loss: 0.2806 - accuracy: 0.9088\n",
      "Epoch 154/200\n",
      "30/30 [==============================] - 0s 1ms/step - loss: 0.3392 - accuracy: 0.8727\n",
      "Epoch 155/200\n",
      "30/30 [==============================] - 0s 1ms/step - loss: 0.4394 - accuracy: 0.8566\n",
      "Epoch 156/200\n",
      "30/30 [==============================] - 0s 1ms/step - loss: 0.2766 - accuracy: 0.9202\n",
      "Epoch 157/200\n",
      "30/30 [==============================] - 0s 1ms/step - loss: 0.3233 - accuracy: 0.8854\n",
      "Epoch 158/200\n",
      "30/30 [==============================] - 0s 1ms/step - loss: 0.2701 - accuracy: 0.9176\n",
      "Epoch 159/200\n",
      "30/30 [==============================] - 0s 1ms/step - loss: 0.3128 - accuracy: 0.8995\n",
      "Epoch 160/200\n",
      "30/30 [==============================] - 0s 1ms/step - loss: 0.3958 - accuracy: 0.8539\n",
      "Epoch 161/200\n",
      "30/30 [==============================] - 0s 1ms/step - loss: 0.2704 - accuracy: 0.9229\n",
      "Epoch 162/200\n",
      "30/30 [==============================] - 0s 1ms/step - loss: 0.3206 - accuracy: 0.8901\n",
      "Epoch 163/200\n",
      "30/30 [==============================] - 0s 1ms/step - loss: 0.3557 - accuracy: 0.8666\n",
      "Epoch 164/200\n",
      "30/30 [==============================] - 0s 1ms/step - loss: 0.2645 - accuracy: 0.9223\n",
      "Epoch 165/200\n",
      "30/30 [==============================] - 0s 2ms/step - loss: 0.3447 - accuracy: 0.8760\n",
      "Epoch 166/200\n",
      "30/30 [==============================] - 0s 1ms/step - loss: 0.3851 - accuracy: 0.8532\n",
      "Epoch 167/200\n",
      "30/30 [==============================] - 0s 1ms/step - loss: 0.3387 - accuracy: 0.8834\n",
      "Epoch 168/200\n",
      "30/30 [==============================] - 0s 1ms/step - loss: 0.2695 - accuracy: 0.9236\n",
      "Epoch 169/200\n",
      "30/30 [==============================] - 0s 1ms/step - loss: 0.2700 - accuracy: 0.9155\n",
      "Epoch 170/200\n",
      "30/30 [==============================] - 0s 1ms/step - loss: 0.4866 - accuracy: 0.8224\n",
      "Epoch 171/200\n",
      "30/30 [==============================] - 0s 1ms/step - loss: 0.3212 - accuracy: 0.9008\n",
      "Epoch 172/200\n",
      "30/30 [==============================] - 0s 1ms/step - loss: 0.2926 - accuracy: 0.9122\n",
      "Epoch 173/200\n",
      "30/30 [==============================] - 0s 1ms/step - loss: 0.4812 - accuracy: 0.8130\n",
      "Epoch 174/200\n",
      "30/30 [==============================] - 0s 1ms/step - loss: 0.3430 - accuracy: 0.8847\n",
      "Epoch 175/200\n",
      "30/30 [==============================] - 0s 1ms/step - loss: 0.2591 - accuracy: 0.9330\n",
      "Epoch 176/200\n",
      "30/30 [==============================] - 0s 1ms/step - loss: 0.3022 - accuracy: 0.8988\n",
      "Epoch 177/200\n",
      "30/30 [==============================] - 0s 1ms/step - loss: 0.2803 - accuracy: 0.9135\n",
      "Epoch 178/200\n",
      "30/30 [==============================] - 0s 1ms/step - loss: 0.2817 - accuracy: 0.9075\n",
      "Epoch 179/200\n",
      "30/30 [==============================] - 0s 1ms/step - loss: 0.2777 - accuracy: 0.9082\n",
      "Epoch 180/200\n",
      "30/30 [==============================] - 0s 1ms/step - loss: 0.3610 - accuracy: 0.8727\n",
      "Epoch 181/200\n",
      "30/30 [==============================] - 0s 1ms/step - loss: 0.7239 - accuracy: 0.7265\n",
      "Epoch 182/200\n",
      "30/30 [==============================] - 0s 1ms/step - loss: 0.5579 - accuracy: 0.7339\n",
      "Epoch 183/200\n",
      "30/30 [==============================] - 0s 2ms/step - loss: 0.5436 - accuracy: 0.7339\n",
      "Epoch 184/200\n",
      "30/30 [==============================] - 0s 1ms/step - loss: 0.5445 - accuracy: 0.7346\n",
      "Epoch 185/200\n",
      "30/30 [==============================] - 0s 1ms/step - loss: 0.5346 - accuracy: 0.7366\n",
      "Epoch 186/200\n",
      "30/30 [==============================] - 0s 1ms/step - loss: 0.5211 - accuracy: 0.7433\n",
      "Epoch 187/200\n",
      "30/30 [==============================] - 0s 1ms/step - loss: 0.4778 - accuracy: 0.7849\n",
      "Epoch 188/200\n",
      "30/30 [==============================] - 0s 1ms/step - loss: 0.3258 - accuracy: 0.9115\n",
      "Epoch 189/200\n",
      "30/30 [==============================] - 0s 1ms/step - loss: 0.2656 - accuracy: 0.9189\n",
      "Epoch 190/200\n",
      "30/30 [==============================] - 0s 1ms/step - loss: 0.2468 - accuracy: 0.9283\n",
      "Epoch 191/200\n",
      "30/30 [==============================] - 0s 1ms/step - loss: 0.2584 - accuracy: 0.9189\n",
      "Epoch 192/200\n",
      "30/30 [==============================] - 0s 1ms/step - loss: 0.2511 - accuracy: 0.9202\n",
      "Epoch 193/200\n",
      "30/30 [==============================] - 0s 1ms/step - loss: 0.4279 - accuracy: 0.8365\n",
      "Epoch 194/200\n",
      "30/30 [==============================] - 0s 1ms/step - loss: 0.2882 - accuracy: 0.9142\n",
      "Epoch 195/200\n",
      "30/30 [==============================] - 0s 1ms/step - loss: 0.3947 - accuracy: 0.8505\n",
      "Epoch 196/200\n",
      "30/30 [==============================] - 0s 1ms/step - loss: 0.3704 - accuracy: 0.8626\n",
      "Epoch 197/200\n",
      "30/30 [==============================] - 0s 1ms/step - loss: 0.3679 - accuracy: 0.8700\n",
      "Epoch 198/200\n",
      "30/30 [==============================] - 0s 1ms/step - loss: 0.4559 - accuracy: 0.8117\n",
      "Epoch 199/200\n",
      "30/30 [==============================] - 0s 2ms/step - loss: 0.4046 - accuracy: 0.8378\n",
      "Epoch 200/200\n",
      "30/30 [==============================] - 0s 1ms/step - loss: 0.3090 - accuracy: 0.9169\n"
     ]
    },
    {
     "data": {
      "text/plain": [
       "<tensorflow.python.keras.callbacks.History at 0x7f9413b8bd90>"
      ]
     },
     "execution_count": 82,
     "metadata": {},
     "output_type": "execute_result"
    }
   ],
   "source": [
    "# Build a model\n",
    "model.fit(train_set_x, Y, epochs=200,batch_size=50)# epochs is the iteration"
   ]
  },
  {
   "cell_type": "code",
   "execution_count": 83,
   "metadata": {},
   "outputs": [
    {
     "name": "stdout",
     "output_type": "stream",
     "text": [
      "47/47 [==============================] - 0s 628us/step - loss: 0.2563 - accuracy: 0.9370\n",
      "accuracy 93.69972944259644\n"
     ]
    }
   ],
   "source": [
    "# Calculating the accuracy\n",
    "scores = model.evaluate(train_set_x, Y)\n",
    "print(model.metrics_names[1], scores[1]*100)"
   ]
  },
  {
   "cell_type": "code",
   "execution_count": 84,
   "metadata": {},
   "outputs": [
    {
     "name": "stdout",
     "output_type": "stream",
     "text": [
      "(30, 200)\n"
     ]
    },
    {
     "data": {
      "text/plain": [
       "(200,)"
      ]
     },
     "execution_count": 84,
     "metadata": {},
     "output_type": "execute_result"
    }
   ],
   "source": [
    "# check weights of the first hidden layer\n",
    "w,b=model.layers[0].get_weights()\n",
    "print(w.shape)\n",
    "b.shape"
   ]
  },
  {
   "cell_type": "code",
   "execution_count": 85,
   "metadata": {},
   "outputs": [
    {
     "name": "stdout",
     "output_type": "stream",
     "text": [
      "[[1.        ]\n",
      " [1.        ]\n",
      " [1.        ]\n",
      " [1.        ]\n",
      " [0.99999845]]\n"
     ]
    },
    {
     "data": {
      "text/plain": [
       "array([[1],\n",
       "       [1],\n",
       "       [1],\n",
       "       [1],\n",
       "       [1]], dtype=int32)"
      ]
     },
     "execution_count": 85,
     "metadata": {},
     "output_type": "execute_result"
    }
   ],
   "source": [
    "# we calculate the probabilities and the predictions for the first 5 samples\n",
    "prob = model.predict(train_set_x[:5])\n",
    "pred = model.predict_classes(train_set_x[:5])\n",
    "print(prob)\n",
    "pred"
   ]
  },
  {
   "cell_type": "code",
   "execution_count": 86,
   "metadata": {},
   "outputs": [
    {
     "name": "stdout",
     "output_type": "stream",
     "text": [
      "[[994   6]\n",
      " [ 88 404]]\n",
      "              precision    recall  f1-score   support\n",
      "\n",
      "           0       0.92      0.99      0.95      1000\n",
      "           1       0.99      0.82      0.90       492\n",
      "\n",
      "    accuracy                           0.94      1492\n",
      "   macro avg       0.95      0.91      0.93      1492\n",
      "weighted avg       0.94      0.94      0.94      1492\n",
      "\n"
     ]
    }
   ],
   "source": [
    "# Using Classification report\n",
    "from sklearn.metrics import classification_report\n",
    "pred = model.predict_classes(train_set_x)\n",
    "print(confusion_matrix(Y, pred))\n",
    "print(classification_report(Y, pred))"
   ]
  },
  {
   "cell_type": "code",
   "execution_count": 87,
   "metadata": {},
   "outputs": [
    {
     "data": {
      "text/plain": [
       "[<matplotlib.lines.Line2D at 0x7f93f2f6bf50>]"
      ]
     },
     "execution_count": 87,
     "metadata": {},
     "output_type": "execute_result"
    },
    {
     "data": {
      "text/plain": [
       "[<matplotlib.lines.Line2D at 0x7f93f2d669d0>]"
      ]
     },
     "execution_count": 87,
     "metadata": {},
     "output_type": "execute_result"
    },
    {
     "data": {
      "text/plain": [
       "Text(0.5, 1.0, 'ROC curve')"
      ]
     },
     "execution_count": 87,
     "metadata": {},
     "output_type": "execute_result"
    },
    {
     "data": {
      "text/plain": [
       "Text(0.5, 0, 'False positive rate')"
      ]
     },
     "execution_count": 87,
     "metadata": {},
     "output_type": "execute_result"
    },
    {
     "data": {
      "text/plain": [
       "Text(0, 0.5, 'True positive rate')"
      ]
     },
     "execution_count": 87,
     "metadata": {},
     "output_type": "execute_result"
    },
    {
     "data": {
      "text/plain": [
       "0.9710325203252034"
      ]
     },
     "execution_count": 87,
     "metadata": {},
     "output_type": "execute_result"
    },
    {
     "data": {
      "image/png": "[encoded data removed]",
      "text/plain": [
       "<Figure size 432x288 with 1 Axes>"
      ]
     },
     "metadata": {
      "needs_background": "light"
     },
     "output_type": "display_data"
    }
   ],
   "source": [
    "# Plot ROC\n",
    "from sklearn import metrics\n",
    "prob = model.predict(train_set_x)\n",
    "#Plotting the RoC Curve\n",
    "fpr,tpr,thre= metrics.roc_curve(Y, prob)\n",
    "plt.plot([0,1], [0,1], 'k--')\n",
    "plt.plot(fpr, tpr)\n",
    "plt.title('ROC curve')\n",
    "plt.xlabel('False positive rate')\n",
    "plt.ylabel('True positive rate')\n",
    "\n",
    "# Calculate the area under the curve\n",
    "metrics.auc(fpr,tpr)"
   ]
  },
  {
   "cell_type": "markdown",
   "metadata": {},
   "source": [
    "# Decision Tree"
   ]
  },
  {
   "cell_type": "code",
   "execution_count": 88,
   "metadata": {},
   "outputs": [],
   "source": [
    "# Building the model\n",
    "from sklearn.tree import DecisionTreeClassifier\n",
    "dtree=DecisionTreeClassifier()"
   ]
  },
  {
   "cell_type": "code",
   "execution_count": 89,
   "metadata": {},
   "outputs": [
    {
     "data": {
      "text/plain": [
       "DecisionTreeClassifier(ccp_alpha=0.0, class_weight=None, criterion='gini',\n",
       "                       max_depth=None, max_features=None, max_leaf_nodes=None,\n",
       "                       min_impurity_decrease=0.0, min_impurity_split=None,\n",
       "                       min_samples_leaf=1, min_samples_split=2,\n",
       "                       min_weight_fraction_leaf=0.0, presort='deprecated',\n",
       "                       random_state=None, splitter='best')"
      ]
     },
     "execution_count": 89,
     "metadata": {},
     "output_type": "execute_result"
    }
   ],
   "source": [
    "dtree.fit(X_train_scale, y_train)"
   ]
  },
  {
   "cell_type": "code",
   "execution_count": 90,
   "metadata": {},
   "outputs": [],
   "source": [
    "predictions=dtree.predict(X_test_scale)"
   ]
  },
  {
   "cell_type": "code",
   "execution_count": 91,
   "metadata": {},
   "outputs": [
    {
     "name": "stdout",
     "output_type": "stream",
     "text": [
      "[[284  17]\n",
      " [ 13 134]]\n",
      "              precision    recall  f1-score   support\n",
      "\n",
      "           0       0.96      0.94      0.95       301\n",
      "           1       0.89      0.91      0.90       147\n",
      "\n",
      "    accuracy                           0.93       448\n",
      "   macro avg       0.92      0.93      0.92       448\n",
      "weighted avg       0.93      0.93      0.93       448\n",
      "\n"
     ]
    }
   ],
   "source": [
    "# Creating the classification report\n",
    "from sklearn.metrics import classification_report, confusion_matrix\n",
    "print(confusion_matrix(y_test, predictions))\n",
    "print(classification_report(y_test, predictions))"
   ]
  },
  {
   "cell_type": "markdown",
   "metadata": {},
   "source": [
    "# Random Forest"
   ]
  },
  {
   "cell_type": "code",
   "execution_count": 92,
   "metadata": {},
   "outputs": [
    {
     "data": {
      "text/plain": [
       "RandomForestClassifier(bootstrap=True, ccp_alpha=0.0, class_weight=None,\n",
       "                       criterion='gini', max_depth=None, max_features='auto',\n",
       "                       max_leaf_nodes=None, max_samples=None,\n",
       "                       min_impurity_decrease=0.0, min_impurity_split=None,\n",
       "                       min_samples_leaf=1, min_samples_split=2,\n",
       "                       min_weight_fraction_leaf=0.0, n_estimators=100,\n",
       "                       n_jobs=None, oob_score=False, random_state=None,\n",
       "                       verbose=0, warm_start=False)"
      ]
     },
     "execution_count": 92,
     "metadata": {},
     "output_type": "execute_result"
    }
   ],
   "source": [
    "# Building the random forest model\n",
    "from sklearn.ensemble import RandomForestClassifier\n",
    "rfc = RandomForestClassifier(n_estimators=100)\n",
    "rfc.fit(X_train_scale, y_train)"
   ]
  },
  {
   "cell_type": "code",
   "execution_count": 93,
   "metadata": {},
   "outputs": [
    {
     "name": "stdout",
     "output_type": "stream",
     "text": [
      "Train Accuracy: 1.0\n",
      "Test Accuracy: 0.9575892857142857\n"
     ]
    }
   ],
   "source": [
    "# Calculate the Train Accuracy\n",
    "train_score = rfc.score(X_train_scale, y_train)\n",
    "print(\"Train Accuracy:\",train_score)\n",
    "\n",
    "# Calculate the Test Accuracy\n",
    "test_score = rfc.score(X_test_scale, y_test)\n",
    "print(\"Test Accuracy:\",test_score)"
   ]
  },
  {
   "cell_type": "code",
   "execution_count": 94,
   "metadata": {},
   "outputs": [
    {
     "data": {
      "text/plain": [
       "array([0, 0, 0, 0, 0, 0, 1, 1, 1, 0, 0, 0, 0, 0, 1, 1, 0, 0, 0, 1, 1, 0,\n",
       "       1, 0, 0, 0, 0, 0, 0, 0, 1, 1, 0, 0, 0, 0, 1, 0, 1, 1, 0, 0, 0, 0,\n",
       "       0, 1, 0, 0, 0, 0, 1, 0, 0, 1, 0, 0, 1, 0, 1, 0, 0, 0, 0, 1, 0, 0,\n",
       "       0, 1, 0, 0, 1, 0, 0, 0, 0, 0, 1, 0, 0, 1, 0, 1, 1, 0, 0, 1, 0, 0,\n",
       "       0, 0, 0, 0, 0, 0, 1, 0, 0, 1, 0, 0, 1, 1, 0, 0, 0, 1, 1, 0, 1, 0,\n",
       "       1, 0, 0, 0, 1, 0, 0, 0, 1, 0, 0, 0, 0, 0, 1, 0, 0, 0, 0, 1, 0, 1,\n",
       "       0, 0, 0, 1, 0, 0, 0, 1, 0, 0, 0, 0, 1, 0, 1, 0, 0, 0, 0, 1, 0, 0,\n",
       "       0, 0, 0, 1, 1, 1, 1, 1, 1, 1, 1, 1, 0, 0, 0, 0, 0, 1, 0, 1, 0, 0,\n",
       "       0, 0, 0, 1, 0, 0, 1, 0, 0, 0, 1, 0, 1, 1, 0, 0, 0, 0, 1, 1, 0, 1,\n",
       "       0, 0, 0, 0, 1, 0, 1, 1, 0, 0, 0, 1, 0, 0, 0, 0, 0, 0, 0, 0, 1, 1,\n",
       "       0, 0, 0, 1, 0, 1, 1, 0, 0, 0, 1, 0, 0, 0, 1, 0, 0, 0, 0, 0, 1, 0,\n",
       "       1, 0, 0, 0, 0, 0, 0, 0, 0, 0, 0, 0, 0, 1, 0, 0, 0, 0, 1, 0, 0, 0,\n",
       "       1, 1, 1, 0, 0, 1, 1, 0, 0, 0, 0, 0, 0, 0, 0, 1, 0, 0, 0, 1, 1, 1,\n",
       "       0, 1, 0, 0, 0, 1, 0, 0, 0, 0, 0, 0, 0, 0, 0, 0, 1, 0, 0, 0, 0, 1,\n",
       "       0, 0, 1, 0, 0, 0, 0, 0, 1, 0, 0, 0, 0, 1, 0, 1, 0, 1, 1, 0, 0, 0,\n",
       "       0, 1, 0, 1, 1, 0, 0, 1, 0, 1, 0, 0, 0, 0, 0, 0, 0, 1, 0, 1, 0, 1,\n",
       "       0, 1, 0, 1, 1, 0, 0, 0, 0, 1, 0, 1, 0, 1, 0, 1, 0, 0, 0, 0, 0, 0,\n",
       "       0, 1, 0, 0, 0, 0, 0, 1, 0, 0, 1, 0, 0, 0, 0, 0, 0, 1, 0, 0, 0, 0,\n",
       "       0, 0, 0, 1, 0, 1, 1, 1, 0, 0, 1, 0, 1, 0, 0, 1, 0, 0, 0, 1, 0, 1,\n",
       "       0, 0, 0, 0, 1, 1, 0, 0, 1, 1, 1, 0, 0, 0, 0, 0, 0, 0, 0, 1, 0, 1,\n",
       "       0, 0, 1, 0, 0, 0, 0, 1])"
      ]
     },
     "execution_count": 94,
     "metadata": {},
     "output_type": "execute_result"
    }
   ],
   "source": [
    "# Predicting the model\n",
    "rfc_pred = rfc.predict(X_test_scale)\n",
    "rfc_pred"
   ]
  },
  {
   "cell_type": "code",
   "execution_count": 95,
   "metadata": {},
   "outputs": [
    {
     "name": "stdout",
     "output_type": "stream",
     "text": [
      "[[298   3]\n",
      " [ 16 131]]\n",
      "              precision    recall  f1-score   support\n",
      "\n",
      "           0       0.95      0.99      0.97       301\n",
      "           1       0.98      0.89      0.93       147\n",
      "\n",
      "    accuracy                           0.96       448\n",
      "   macro avg       0.96      0.94      0.95       448\n",
      "weighted avg       0.96      0.96      0.96       448\n",
      "\n"
     ]
    }
   ],
   "source": [
    "# Creating the classification report\n",
    "print(confusion_matrix(y_test, rfc_pred))\n",
    "print(classification_report(y_test, rfc_pred))"
   ]
  },
  {
   "cell_type": "code",
   "execution_count": 96,
   "metadata": {},
   "outputs": [
    {
     "data": {
      "text/plain": [
       "[<matplotlib.lines.Line2D at 0x7f94129ac850>]"
      ]
     },
     "execution_count": 96,
     "metadata": {},
     "output_type": "execute_result"
    },
    {
     "data": {
      "text/plain": [
       "[<matplotlib.lines.Line2D at 0x7f94391f5d90>]"
      ]
     },
     "execution_count": 96,
     "metadata": {},
     "output_type": "execute_result"
    },
    {
     "data": {
      "text/plain": [
       "Text(0.5, 1.0, 'ROC curve')"
      ]
     },
     "execution_count": 96,
     "metadata": {},
     "output_type": "execute_result"
    },
    {
     "data": {
      "text/plain": [
       "Text(0.5, 0, 'False positive rate')"
      ]
     },
     "execution_count": 96,
     "metadata": {},
     "output_type": "execute_result"
    },
    {
     "data": {
      "text/plain": [
       "Text(0, 0.5, 'True positive rate')"
      ]
     },
     "execution_count": 96,
     "metadata": {},
     "output_type": "execute_result"
    },
    {
     "data": {
      "text/plain": [
       "0.9803489502113137"
      ]
     },
     "execution_count": 96,
     "metadata": {},
     "output_type": "execute_result"
    },
    {
     "data": {
      "image/png": "[encoded data removed]",
      "text/plain": [
       "<Figure size 432x288 with 1 Axes>"
      ]
     },
     "metadata": {
      "needs_background": "light"
     },
     "output_type": "display_data"
    }
   ],
   "source": [
    "from sklearn import metrics\n",
    "prob=rfc.predict_proba(X_test_scale)\n",
    "\n",
    "# Plot the ROC Curve for test\n",
    "\n",
    "fpr,tpr,thre=metrics.roc_curve(y_test, prob[:,1]) \n",
    "plt.plot([0, 1], [0, 1], 'k--')\n",
    "plt.plot(fpr, tpr)\n",
    "plt.title('ROC curve')\n",
    "plt.xlabel('False positive rate')\n",
    "plt.ylabel('True positive rate')\n",
    "\n",
    "# Area under curve\n",
    "metrics.auc(fpr,tpr)"
   ]
  },
  {
   "cell_type": "code",
   "execution_count": 97,
   "metadata": {},
   "outputs": [],
   "source": [
    "##### END   #######"
   ]
  },
  {
   "cell_type": "code",
   "execution_count": null,
   "metadata": {},
   "outputs": [],
   "source": []
  },
  {
   "cell_type": "code",
   "execution_count": null,
   "metadata": {},
   "outputs": [],
   "source": []
  }
 ],
 "metadata": {
  "kernelspec": {
   "display_name": "Python 3",
   "language": "python",
   "name": "python3"
  },
  "language_info": {
   "codemirror_mode": {
    "name": "ipython",
    "version": 3
   },
   "file_extension": ".py",
   "mimetype": "text/x-python",
   "name": "python",
   "nbconvert_exporter": "python",
   "pygments_lexer": "ipython3",
   "version": "3.7.7"
  }
 },
 "nbformat": 4,
 "nbformat_minor": 4
}
